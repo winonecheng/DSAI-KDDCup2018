{
 "cells": [
  {
   "cell_type": "code",
   "execution_count": 1,
   "metadata": {},
   "outputs": [
    {
     "name": "stderr",
     "output_type": "stream",
     "text": [
      "/home/chiehcheng/.local/lib/python3.6/site-packages/statsmodels/compat/pandas.py:56: FutureWarning: The pandas.core.datetools module is deprecated and will be removed in a future version. Please use the pandas.tseries module instead.\n",
      "  from pandas.core import datetools\n"
     ]
    }
   ],
   "source": [
    "from datetime import datetime \n",
    "\n",
    "import pandas as pd\n",
    "import numpy as np\n",
    "from matplotlib import pyplot\n",
    "from statsmodels.tsa.ar_model import AR"
   ]
  },
  {
   "cell_type": "code",
   "execution_count": 2,
   "metadata": {},
   "outputs": [],
   "source": [
    "def smape(actual, predicted):\n",
    "    dividend= np.abs(np.array(actual) - np.array(predicted))\n",
    "    denominator = np.array(actual) + np.array(predicted)\n",
    "    \n",
    "    return 2 * np.mean(np.divide(dividend, denominator, out=np.zeros_like(dividend), where=denominator!=0, casting='unsafe'))"
   ]
  },
  {
   "cell_type": "markdown",
   "metadata": {},
   "source": [
    "## Load training data"
   ]
  },
  {
   "cell_type": "code",
   "execution_count": 3,
   "metadata": {},
   "outputs": [],
   "source": [
    "bj_aq1 = pd.read_csv('data/bj/beijing_17_18_aq.csv')\n",
    "bj_aq2 = pd.read_csv('data/bj/beijing_201802_201803_aq.csv')\n",
    "bj_aq3 = pd.read_csv('data/bj/bj_aq_0401_0423.csv') # data from api\n",
    "ld_aq1 = pd.read_csv('data/ld/London_historical_aqi_forecast_stations_20180331.csv')\n",
    "ld_aq2 = pd.read_csv('data/ld/ld_aq_0331_0423.csv') # data from api"
   ]
  },
  {
   "cell_type": "code",
   "execution_count": 4,
   "metadata": {},
   "outputs": [],
   "source": [
    "ld_aq2.columns = bj_aq3.columns = ['id', 'stationId', 'utc_time', 'PM2.5', 'PM10', 'NO2', 'CO', 'O3', 'SO2']\n",
    "ld_aq1.columns = ['unused', 'utc_time', 'stationId', 'PM2.5', 'PM10', 'NO2']"
   ]
  },
  {
   "cell_type": "code",
   "execution_count": 5,
   "metadata": {},
   "outputs": [
    {
     "data": {
      "text/html": [
       "<div>\n",
       "<style scoped>\n",
       "    .dataframe tbody tr th:only-of-type {\n",
       "        vertical-align: middle;\n",
       "    }\n",
       "\n",
       "    .dataframe tbody tr th {\n",
       "        vertical-align: top;\n",
       "    }\n",
       "\n",
       "    .dataframe thead th {\n",
       "        text-align: right;\n",
       "    }\n",
       "</style>\n",
       "<table border=\"1\" class=\"dataframe\">\n",
       "  <thead>\n",
       "    <tr style=\"text-align: right;\">\n",
       "      <th></th>\n",
       "      <th>utc_time</th>\n",
       "      <th>stationId</th>\n",
       "      <th>PM2.5</th>\n",
       "      <th>PM10</th>\n",
       "      <th>O3</th>\n",
       "    </tr>\n",
       "    <tr>\n",
       "      <th>utc_time</th>\n",
       "      <th></th>\n",
       "      <th></th>\n",
       "      <th></th>\n",
       "      <th></th>\n",
       "      <th></th>\n",
       "    </tr>\n",
       "  </thead>\n",
       "  <tbody>\n",
       "    <tr>\n",
       "      <th>2017-01-01 14:00:00</th>\n",
       "      <td>2017-01-01 14:00:00</td>\n",
       "      <td>aotizhongxin_aq</td>\n",
       "      <td>453.0</td>\n",
       "      <td>467.0</td>\n",
       "      <td>3.0</td>\n",
       "    </tr>\n",
       "    <tr>\n",
       "      <th>2017-01-01 15:00:00</th>\n",
       "      <td>2017-01-01 15:00:00</td>\n",
       "      <td>aotizhongxin_aq</td>\n",
       "      <td>417.0</td>\n",
       "      <td>443.0</td>\n",
       "      <td>2.0</td>\n",
       "    </tr>\n",
       "    <tr>\n",
       "      <th>2017-01-01 16:00:00</th>\n",
       "      <td>2017-01-01 16:00:00</td>\n",
       "      <td>aotizhongxin_aq</td>\n",
       "      <td>395.0</td>\n",
       "      <td>467.0</td>\n",
       "      <td>3.0</td>\n",
       "    </tr>\n",
       "    <tr>\n",
       "      <th>2017-01-01 17:00:00</th>\n",
       "      <td>2017-01-01 17:00:00</td>\n",
       "      <td>aotizhongxin_aq</td>\n",
       "      <td>420.0</td>\n",
       "      <td>484.0</td>\n",
       "      <td>3.0</td>\n",
       "    </tr>\n",
       "    <tr>\n",
       "      <th>2017-01-01 18:00:00</th>\n",
       "      <td>2017-01-01 18:00:00</td>\n",
       "      <td>aotizhongxin_aq</td>\n",
       "      <td>453.0</td>\n",
       "      <td>520.0</td>\n",
       "      <td>4.0</td>\n",
       "    </tr>\n",
       "  </tbody>\n",
       "</table>\n",
       "</div>"
      ],
      "text/plain": [
       "                               utc_time        stationId  PM2.5   PM10   O3\n",
       "utc_time                                                                   \n",
       "2017-01-01 14:00:00 2017-01-01 14:00:00  aotizhongxin_aq  453.0  467.0  3.0\n",
       "2017-01-01 15:00:00 2017-01-01 15:00:00  aotizhongxin_aq  417.0  443.0  2.0\n",
       "2017-01-01 16:00:00 2017-01-01 16:00:00  aotizhongxin_aq  395.0  467.0  3.0\n",
       "2017-01-01 17:00:00 2017-01-01 17:00:00  aotizhongxin_aq  420.0  484.0  3.0\n",
       "2017-01-01 18:00:00 2017-01-01 18:00:00  aotizhongxin_aq  453.0  520.0  4.0"
      ]
     },
     "execution_count": 5,
     "metadata": {},
     "output_type": "execute_result"
    }
   ],
   "source": [
    "bj_aq = pd.concat([bj_aq1, bj_aq2, bj_aq3])\n",
    "bj_aq['utc_time'] = pd.to_datetime(bj_aq['utc_time'])\n",
    "bj_aq = bj_aq[['utc_time', 'stationId', 'PM2.5', 'PM10', 'O3']]\n",
    "bj_aq.index = bj_aq['utc_time']\n",
    "bj_aq.head()"
   ]
  },
  {
   "cell_type": "code",
   "execution_count": 6,
   "metadata": {},
   "outputs": [
    {
     "data": {
      "text/html": [
       "<div>\n",
       "<style scoped>\n",
       "    .dataframe tbody tr th:only-of-type {\n",
       "        vertical-align: middle;\n",
       "    }\n",
       "\n",
       "    .dataframe tbody tr th {\n",
       "        vertical-align: top;\n",
       "    }\n",
       "\n",
       "    .dataframe thead th {\n",
       "        text-align: right;\n",
       "    }\n",
       "</style>\n",
       "<table border=\"1\" class=\"dataframe\">\n",
       "  <thead>\n",
       "    <tr style=\"text-align: right;\">\n",
       "      <th></th>\n",
       "      <th>utc_time</th>\n",
       "      <th>stationId</th>\n",
       "      <th>PM2.5</th>\n",
       "      <th>PM10</th>\n",
       "    </tr>\n",
       "    <tr>\n",
       "      <th>utc_time</th>\n",
       "      <th></th>\n",
       "      <th></th>\n",
       "      <th></th>\n",
       "      <th></th>\n",
       "    </tr>\n",
       "  </thead>\n",
       "  <tbody>\n",
       "    <tr>\n",
       "      <th>2017-01-01 00:00:00</th>\n",
       "      <td>2017-01-01 00:00:00</td>\n",
       "      <td>CD1</td>\n",
       "      <td>40.0</td>\n",
       "      <td>44.4</td>\n",
       "    </tr>\n",
       "    <tr>\n",
       "      <th>2017-01-01 01:00:00</th>\n",
       "      <td>2017-01-01 01:00:00</td>\n",
       "      <td>CD1</td>\n",
       "      <td>31.6</td>\n",
       "      <td>34.4</td>\n",
       "    </tr>\n",
       "    <tr>\n",
       "      <th>2017-01-01 02:00:00</th>\n",
       "      <td>2017-01-01 02:00:00</td>\n",
       "      <td>CD1</td>\n",
       "      <td>24.7</td>\n",
       "      <td>28.1</td>\n",
       "    </tr>\n",
       "    <tr>\n",
       "      <th>2017-01-01 03:00:00</th>\n",
       "      <td>2017-01-01 03:00:00</td>\n",
       "      <td>CD1</td>\n",
       "      <td>21.2</td>\n",
       "      <td>24.5</td>\n",
       "    </tr>\n",
       "    <tr>\n",
       "      <th>2017-01-01 04:00:00</th>\n",
       "      <td>2017-01-01 04:00:00</td>\n",
       "      <td>CD1</td>\n",
       "      <td>24.9</td>\n",
       "      <td>23.0</td>\n",
       "    </tr>\n",
       "  </tbody>\n",
       "</table>\n",
       "</div>"
      ],
      "text/plain": [
       "                               utc_time stationId  PM2.5  PM10\n",
       "utc_time                                                      \n",
       "2017-01-01 00:00:00 2017-01-01 00:00:00       CD1   40.0  44.4\n",
       "2017-01-01 01:00:00 2017-01-01 01:00:00       CD1   31.6  34.4\n",
       "2017-01-01 02:00:00 2017-01-01 02:00:00       CD1   24.7  28.1\n",
       "2017-01-01 03:00:00 2017-01-01 03:00:00       CD1   21.2  24.5\n",
       "2017-01-01 04:00:00 2017-01-01 04:00:00       CD1   24.9  23.0"
      ]
     },
     "execution_count": 6,
     "metadata": {},
     "output_type": "execute_result"
    }
   ],
   "source": [
    "ld_aq = pd.concat([ld_aq1, ld_aq2])\n",
    "ld_aq['utc_time'] = pd.to_datetime(ld_aq['utc_time'])\n",
    "ld_aq = ld_aq[['utc_time', 'stationId', 'PM2.5', 'PM10']]\n",
    "ld_aq.index = ld_aq['utc_time']\n",
    "ld_aq.head()"
   ]
  },
  {
   "cell_type": "markdown",
   "metadata": {},
   "source": [
    "## handle missing value"
   ]
  },
  {
   "cell_type": "code",
   "execution_count": 7,
   "metadata": {
    "scrolled": true
   },
   "outputs": [
    {
     "name": "stdout",
     "output_type": "stream",
     "text": [
      "CPU times: user 1.51 s, sys: 31.8 ms, total: 1.54 s\n",
      "Wall time: 1.56 s\n"
     ]
    }
   ],
   "source": [
    "%%time\n",
    "\n",
    "idx = pd.date_range(bj_aq.index.min(), bj_aq.index.max(), freq='H')\n",
    "bj_aq_dict = dict()\n",
    "grouped = bj_aq.groupby('stationId')\n",
    "for name, group in grouped:\n",
    "    df = group.drop_duplicates('utc_time', keep='last')\n",
    "    df = df.reindex(idx)\n",
    "    df.interpolate(method='slinear', inplace=True)\n",
    "    bj_aq_dict[name] = df[['PM2.5', 'PM10', 'O3']]"
   ]
  },
  {
   "cell_type": "code",
   "execution_count": 8,
   "metadata": {},
   "outputs": [
    {
     "name": "stdout",
     "output_type": "stream",
     "text": [
      "CPU times: user 856 ms, sys: 7.37 ms, total: 863 ms\n",
      "Wall time: 862 ms\n"
     ]
    }
   ],
   "source": [
    "%%time\n",
    "\n",
    "idx = pd.date_range(ld_aq.index.min(), ld_aq.index.max(), freq='H')\n",
    "ld_aq_dict = dict()\n",
    "grouped = ld_aq.groupby('stationId')\n",
    "for name, group in grouped:\n",
    "    df = group.drop_duplicates('utc_time', keep='last')\n",
    "    df = df.reindex(idx)\n",
    "    df.interpolate(method='slinear', inplace=True)\n",
    "    ld_aq_dict[name] = df[['PM2.5', 'PM10']]"
   ]
  },
  {
   "cell_type": "markdown",
   "metadata": {},
   "source": [
    "## Train the AR model and use it to predict"
   ]
  },
  {
   "cell_type": "code",
   "execution_count": 9,
   "metadata": {
    "scrolled": true
   },
   "outputs": [
    {
     "name": "stdout",
     "output_type": "stream",
     "text": [
      "CPU times: user 26.7 s, sys: 20.1 s, total: 46.8 s\n",
      "Wall time: 12.5 s\n"
     ]
    }
   ],
   "source": [
    "%%time\n",
    "\n",
    "ar_models = dict()\n",
    "results = dict()\n",
    "\n",
    "#start = datetime(2018,4,23,15)\n",
    "end = datetime(2018,4,25,23)\n",
    "\n",
    "for _dict in [bj_aq_dict, ld_aq_dict]:\n",
    "    for station, aq_df in _dict.items():\n",
    "        ar_models[station] = dict()\n",
    "        results[station] = dict()\n",
    "\n",
    "        for pollutant in aq_df:\n",
    "\n",
    "            # prevent data of some station is empty like 'zhiwuyuan_aq'\n",
    "            if len(aq_df[pollutant].dropna()) is 0: \n",
    "                continue\n",
    "            \n",
    "            model = AR(aq_df[pollutant], missing='drop')\n",
    "            ar_models[station][pollutant] = model_fit = model.fit()\n",
    "\n",
    "            #print(station, pollutant)\n",
    "\n",
    "            # start forecasting from the next hour of traing data to the end datetime\n",
    "            predictions = model_fit.predict(start=len(aq_df[pollutant].dropna()), end=end, dynamic=False)\n",
    "            results[station][pollutant] = predictions"
   ]
  },
  {
   "cell_type": "markdown",
   "metadata": {},
   "source": [
    "## Output the result to submission file"
   ]
  },
  {
   "cell_type": "code",
   "execution_count": 10,
   "metadata": {},
   "outputs": [],
   "source": [
    "submission = pd.read_csv('data/sample_submission.csv')\n",
    "submission['PM2.5'] = submission['PM2.5'].astype('float64')\n",
    "submission['PM10'] = submission['PM10'].astype('float64')\n",
    "submission['O3'] = submission['O3'].astype('float64')\n",
    "\n",
    "test_date = pd.date_range(datetime(2018,4,24,0), datetime(2018,4,25,23), freq='H')\n",
    "\n",
    "submission.index = submission['test_id']\n",
    "for index, row in submission.iterrows():\n",
    "    station, num = index.split('#')\n",
    "    date = test_date[int(num)]\n",
    "    submission.at[index, 'O3'] = results[station]['O3'][date] if 'O3' in results[station] else 0\n",
    "    submission.at[index, 'PM2.5'] = results[station]['PM2.5'][date]\n",
    "    submission.at[index, 'PM10'] = results[station]['PM10'][date]"
   ]
  },
  {
   "cell_type": "code",
   "execution_count": 11,
   "metadata": {},
   "outputs": [],
   "source": [
    "submission = submission.reset_index(drop=True)\n",
    "submission.to_csv('ar_submission.csv', index=False)"
   ]
  }
 ],
 "metadata": {
  "kernelspec": {
   "display_name": "Python 3",
   "language": "python",
   "name": "python3"
  },
  "language_info": {
   "codemirror_mode": {
    "name": "ipython",
    "version": 3
   },
   "file_extension": ".py",
   "mimetype": "text/x-python",
   "name": "python",
   "nbconvert_exporter": "python",
   "pygments_lexer": "ipython3",
   "version": "3.6.3"
  }
 },
 "nbformat": 4,
 "nbformat_minor": 2
}
